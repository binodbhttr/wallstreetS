{
 "cells": [
  {
   "cell_type": "code",
   "execution_count": null,
   "id": "ab9de5b4-9bea-4099-9631-f41c6d341c32",
   "metadata": {},
   "outputs": [],
   "source": [
    "#Welcome to Alpha Vantage! Your API key is: 6NY98HFWJ7HOKS8D. Please record this API key at a safe place for future data access.\n",
    "\n",
    "# Import yfinance \n",
    "import numpy as np\n",
    "import yfinance as yf   \n",
    " \n",
    "# Get the data for the stock Apple by specifying the stock ticker, start date, and end date \n",
    "data = yf.download('ABEO','2020-01-01','2021-10-28') \n",
    " \n",
    "#data = yf.download(tickers='AAPL', period='1d', interval='1m') #to download 1 day recent data\n",
    "# Plot the close prices \n",
    "import matplotlib.pyplot as plt \n",
    "\n",
    "#data.High.plot() \n",
    "\n",
    "x=np.array(data.Close)\n",
    "y=np.array(data.Open)\n",
    "\n",
    "delta=data.Close-data.Open\n",
    "\n",
    "d=(np.array(delta)/data.Open)*100\n",
    "\n",
    "print(\"Mean fluctuation is\",np.mean(d))\n",
    "print(\"Median fluctuation is\",np.median(d))\n",
    "print(\"Standara Deviation of the fluctuation is\",np.std(d))"
   ]
  },
  {
   "cell_type": "code",
   "execution_count": 18,
   "id": "df3bcae7-d950-4dd9-8b9e-1bd28a4acae6",
   "metadata": {},
   "outputs": [
    {
     "name": "stdout",
     "output_type": "stream",
     "text": [
      "460\n",
      "[2.90507609 2.90112922]\n"
     ]
    }
   ],
   "source": [
    "from sklearn.linear_model import LinearRegression\n",
    "import numpy as np\n",
    "\n",
    "## Data (Apple stock prices)\n",
    "apple = x\n",
    "n = len(apple)\n",
    "print(n)\n",
    "## One-liner\n",
    "model = LinearRegression().fit(np.arange(n).reshape((n,1)), apple)\n",
    "\n",
    "## Result & puzzle\n",
    "print(model.predict([[3],[4]]))"
   ]
  },
  {
   "cell_type": "code",
   "execution_count": null,
   "id": "b705d2e5-daaf-4a36-9e19-e00c87203145",
   "metadata": {},
   "outputs": [],
   "source": []
  },
  {
   "cell_type": "code",
   "execution_count": null,
   "id": "5a9c1812-259c-46cb-abc3-8d868ac2836a",
   "metadata": {},
   "outputs": [],
   "source": []
  }
 ],
 "metadata": {
  "kernelspec": {
   "display_name": "Python 3",
   "language": "python",
   "name": "python3"
  },
  "language_info": {
   "codemirror_mode": {
    "name": "ipython",
    "version": 3
   },
   "file_extension": ".py",
   "mimetype": "text/x-python",
   "name": "python",
   "nbconvert_exporter": "python",
   "pygments_lexer": "ipython3",
   "version": "3.8.8"
  }
 },
 "nbformat": 4,
 "nbformat_minor": 5
}
