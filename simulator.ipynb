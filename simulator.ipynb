{
 "cells": [
  {
   "cell_type": "markdown",
   "metadata": {},
   "source": [
    "# Main Simulation"
   ]
  },
  {
   "cell_type": "code",
   "execution_count": 1,
   "metadata": {},
   "outputs": [
    {
     "name": "stdout",
     "output_type": "stream",
     "text": [
      "Positive Profits: 994\n",
      "Negative Profits: 6\n",
      "Mean profit: 82.07247070015015\n",
      "Standard Deviatin of profits: 46.03852186126325\n",
      "Highest Profit: 367.8309162080496\n",
      "Lowest Profit: 0.0\n"
     ]
    },
    {
     "data": {
      "image/png": "[encoded data removed]",
      "text/plain": [
       "<Figure size 432x288 with 1 Axes>"
      ]
     },
     "metadata": {
      "needs_background": "light"
     },
     "output_type": "display_data"
    }
   ],
   "source": [
    "import random\n",
    "import numpy as np\n",
    "from matplotlib import pyplot as plt\n",
    "import os\n",
    "\n",
    "\n",
    "\n",
    "def sim(stock_price,total_days):\n",
    "    initial_stock_price=stock_price\n",
    "    initial_stocks=0\n",
    "    portfolio=initial_stocks\n",
    "    cost=0\n",
    "    price_history=np.zeros(total_days)\n",
    "    days=np.arange(0,total_days,1)\n",
    "    pc_mean=-0.2867826682796331\n",
    "    pc_stdev=3.479385394676354\n",
    "    pc_daily=np.zeros(total_days)\n",
    "    #moving_average=np.zeros(total_days)\n",
    "    \n",
    "    moving_pc=np.zeros(total_days)\n",
    "    n=1\n",
    "    for i in range(total_days):\n",
    "        percentage_change=np.random.normal(pc_mean,pc_stdev,1)[0]\n",
    "        pc_daily[i]=percentage_change\n",
    "        stock_price=stock_price+(stock_price*percentage_change*0.01)\n",
    "        price_history[i]=stock_price\n",
    "        #print(f\"Day: {i} Stock Price is {stock_price}\")\n",
    "        if percentage_change<-7:\n",
    "            '''Trading strategy\n",
    "            '''\n",
    "            buy=3\n",
    "            portfolio+=3\n",
    "    \n",
    "        #moving_average[i]=np.sum(price_history[0:i])/n\n",
    "        moving_pc[i]=np.sum(pc_daily[0:i])/n\n",
    "        n+=1\n",
    "        pc_mean=(pc_mean*(7000+i)+moving_pc[i])/(7000+i+1)\n",
    "        #print(\"New Percentage Change Average:\",pc_mean)\n",
    "    profit=(portfolio*stock_price)-cost\n",
    "    return profit\n",
    "\n",
    "\n",
    "n=1000\n",
    "positive_profits_count=0\n",
    "profits=np.zeros(n)\n",
    "\n",
    "for i in range(n):\n",
    "    profits[i]=sim(10,200)\n",
    "    if profits[i]>0:\n",
    "        positive_profits_count+=1\n",
    "\n",
    "print(\"Positive Profits:\",positive_profits_count)\n",
    "print(\"Negative Profits:\",n-positive_profits_count)\n",
    "print(\"Mean profit:\",np.mean(profits))\n",
    "print(\"Standard Deviatin of profits:\",np.std(profits))\n",
    "print(\"Highest Profit:\",np.max(profits))\n",
    "print(\"Lowest Profit:\",np.min(profits))\n",
    "n,bins,edges=plt.hist(profits,bins=10)\n",
    "\n"
   ]
  },
  {
   "cell_type": "code",
   "execution_count": null,
   "metadata": {},
   "outputs": [],
   "source": []
  }
 ],
 "metadata": {
  "kernelspec": {
   "display_name": "Python 3",
   "language": "python",
   "name": "python3"
  },
  "language_info": {
   "codemirror_mode": {
    "name": "ipython",
    "version": 3
   },
   "file_extension": ".py",
   "mimetype": "text/x-python",
   "name": "python",
   "nbconvert_exporter": "python",
   "pygments_lexer": "ipython3",
   "version": "3.7.6"
  }
 },
 "nbformat": 4,
 "nbformat_minor": 4
}
