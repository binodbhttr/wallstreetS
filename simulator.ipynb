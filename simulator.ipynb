{
 "cells": [
  {
   "cell_type": "markdown",
   "metadata": {},
   "source": [
    "# Main Simulation"
   ]
  },
  {
   "cell_type": "code",
   "execution_count": 14,
   "metadata": {},
   "outputs": [
    {
     "name": "stdout",
     "output_type": "stream",
     "text": [
      "Positive Profits: 6832\n",
      "Negative Profits: 3168\n",
      "Mean profit: 123795.62756262577\n",
      "Standard Deviatin of profits: 365609.3933364309\n",
      "Highest Profit: 11407307.82550394\n",
      "Lowest Profit: -321313.8680941735\n"
     ]
    },
    {
     "data": {
      "text/plain": [
       "([<matplotlib.axis.XTick at 0x7f18842e54d0>,\n",
       "  <matplotlib.axis.XTick at 0x7f18842dcbd0>,\n",
       "  <matplotlib.axis.XTick at 0x7f18842dc8d0>,\n",
       "  <matplotlib.axis.XTick at 0x7f18842ffe50>,\n",
       "  <matplotlib.axis.XTick at 0x7f18842a2c90>,\n",
       "  <matplotlib.axis.XTick at 0x7f18842ab290>,\n",
       "  <matplotlib.axis.XTick at 0x7f18842a2e10>,\n",
       "  <matplotlib.axis.XTick at 0x7f18842abad0>,\n",
       "  <matplotlib.axis.XTick at 0x7f18842b1190>,\n",
       "  <matplotlib.axis.XTick at 0x7f18842b1790>,\n",
       "  <matplotlib.axis.XTick at 0x7f18842b1d90>],\n",
       " <a list of 11 Text xticklabel objects>)"
      ]
     },
     "execution_count": 14,
     "metadata": {},
     "output_type": "execute_result"
    },
    {
     "data": {
      "image/png": "[encoded data removed]",
      "text/plain": [
       "<Figure size 432x288 with 1 Axes>"
      ]
     },
     "metadata": {
      "needs_background": "light"
     },
     "output_type": "display_data"
    }
   ],
   "source": [
    "import random\n",
    "import numpy as np\n",
    "from matplotlib import pyplot as plt\n",
    "import os\n",
    "\n",
    "\n",
    "\n",
    "def sim(stock_price,total_days):\n",
    "    initial_stock_price=stock_price\n",
    "    initial_stocks=0\n",
    "    portfolio=initial_stocks\n",
    "    cost=0\n",
    "    price_history=np.zeros(total_days)\n",
    "    days=np.arange(0,total_days,1)\n",
    "    for i in range(total_days):\n",
    "        percentage_change=np.random.normal(0.2,4.5,1)[0]\n",
    "        stock_price=stock_price+(stock_price*percentage_change*0.01)\n",
    "        price_history[i]=stock_price\n",
    "        #print(f\"Day: {i} Stock Price is {stock_price}\")\n",
    "        if percentage_change<100:\n",
    "            buy=3\n",
    "            cost+=buy*stock_price\n",
    "            portfolio+=3\n",
    "                \n",
    "    profit=(portfolio*stock_price)-cost\n",
    "    return profit\n",
    "\n",
    "\n",
    "n=10000\n",
    "positive_profits_count=0\n",
    "profits=np.zeros(n)\n",
    "\n",
    "for i in range(n):\n",
    "    os.system(\"cls\")\n",
    "    profits[i]=sim(10,1000)\n",
    "    if profits[i]>0:\n",
    "        positive_profits_count+=1\n",
    "\n",
    "print(\"Positive Profits:\",positive_profits_count)\n",
    "print(\"Negative Profits:\",n-positive_profits_count)\n",
    "print(\"Mean profit:\",np.mean(profits))\n",
    "print(\"Standard Deviatin of profits:\",np.std(profits))\n",
    "print(\"Highest Profit:\",np.max(profits))\n",
    "print(\"Lowest Profit:\",np.min(profits))\n",
    "n,bins,edges=plt.hist(profits,bins=10)"
   ]
  }
 ],
 "metadata": {
  "kernelspec": {
   "display_name": "Python 3",
   "language": "python",
   "name": "python3"
  },
  "language_info": {
   "codemirror_mode": {
    "name": "ipython",
    "version": 3
   },
   "file_extension": ".py",
   "mimetype": "text/x-python",
   "name": "python",
   "nbconvert_exporter": "python",
   "pygments_lexer": "ipython3",
   "version": "3.7.6"
  }
 },
 "nbformat": 4,
 "nbformat_minor": 4
}
