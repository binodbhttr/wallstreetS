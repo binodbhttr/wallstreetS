{
 "cells": [
  {
   "cell_type": "markdown",
   "metadata": {},
   "source": [
    "# Main Simulation"
   ]
  },
  {
   "cell_type": "code",
   "execution_count": 173,
   "metadata": {},
   "outputs": [],
   "source": [
    "import random\n",
    "import numpy as np\n",
    "from matplotlib import pyplot as plt\n",
    "import os\n",
    "from datetime import date\n",
    "import yfinance as yf   \n",
    "from scipy.stats import norm\n",
    "\n",
    "\n",
    "\n",
    "\n",
    "def sim(stock_price,total_days,seed_pc):\n",
    "    initial_stock_price=stock_price\n",
    "    pc_mean=np.mean(seed_pc)\n",
    "    pc_stdev=np.std(seed_pc)\n",
    "    \n",
    "    initial_stocks=0\n",
    "    total_stocks=initial_stocks\n",
    "    cost=0\n",
    "    price_history=np.zeros(total_days)\n",
    "    days=np.arange(0,total_days,1)\n",
    "    \n",
    "    seed_pc_count=len(seed_pc)\n",
    "    pc_evolved=list(seed_pc)\n",
    "    #moving_average=np.zeros(total_days)\n",
    "    \n",
    "    n=1\n",
    "    for i in range(total_days):\n",
    "        percentage_change=np.random.normal(pc_mean,pc_stdev,1)[0]\n",
    "        pc_evolved.append(percentage_change)\n",
    "        stock_price=stock_price+(stock_price*percentage_change*0.01)\n",
    "        price_history[i]=stock_price\n",
    "        #print(f\"Day: {i} Stock Price is {stock_price}\")\n",
    "        if percentage_change<-5:\n",
    "            '''Trading strategy\n",
    "            '''\n",
    "            buy=3\n",
    "            cost=cost+buy*stock_price\n",
    "            total_stocks+=3\n",
    "    \n",
    "        n+=1\n",
    "        #pc_mean=(pc_mean*(seed_pc_count+i)+cumulative_pc[i])/(seed_pc_count+i+1)\n",
    "        pc_mean=np.mean(pc_evolved)\n",
    "        pc_stdev=np.std(pc_evolved)\n",
    "    \n",
    "        #print(\"New Percentage Change Average:\",pc_mean)\n",
    "    profit=(total_stocks*stock_price)-cost\n",
    "    return profit, pc_evolved, price_history"
   ]
  },
  {
   "cell_type": "code",
   "execution_count": 174,
   "metadata": {},
   "outputs": [
    {
     "name": "stdout",
     "output_type": "stream",
     "text": [
      "Today's Date is:  2023-01-17\n",
      "[*********************100%***********************]  1 of 1 completed\n",
      "Mean fluctuation is 0.11633547296647037\n",
      "Median fluctuation is 0.11751937286338603\n",
      "Standarad Deviation of the fluctuation is 1.6134289256625396\n"
     ]
    },
    {
     "data": {
      "image/png": "[encoded data removed]",
      "text/plain": [
       "<Figure size 432x288 with 1 Axes>"
      ]
     },
     "metadata": {
      "needs_background": "light"
     },
     "output_type": "display_data"
    }
   ],
   "source": [
    "#pc_mean=-0.2867826682796331\n",
    "#pc_stdev=3.479385394676354\n",
    "#latest_stock_price=10\n",
    "\n",
    "days_to_simulate=200\n",
    "\n",
    "\n",
    "today = str(date.today())\n",
    "print(\"Today's Date is: \",today)\n",
    "\n",
    "ticker=\"AAPL\"\n",
    "starting_date='2019-01-01'\n",
    "data = yf.download(ticker,starting_date,today) \n",
    "\n",
    "x=np.array(data.Close)\n",
    "y=np.array(data.Open)\n",
    "latest_stock_price=x[-1]\n",
    "\n",
    "delta=data.Close-data.Open\n",
    "\n",
    "pc=(np.array(delta)/data.Open)*100\n",
    "seed_pc=pc\n",
    "\n",
    "bin=3.49*np.std(pc)*(len(pc)**(1/3))\n",
    "counts, bins, bars=plt.hist(pc,int(bin))\n",
    "\n",
    "pc_mean=np.mean(pc)\n",
    "pc_stdev=np.std(pc)\n",
    "pc_median=np.median(pc)\n",
    "\n",
    "pc_mean_std_sample_count=len(pc)\n",
    "print(\"Mean fluctuation is\",pc_mean)\n",
    "print(\"Median fluctuation is\",pc_median)\n",
    "print(\"Standarad Deviation of the fluctuation is\",pc_stdev)\n"
   ]
  },
  {
   "cell_type": "code",
   "execution_count": 171,
   "metadata": {},
   "outputs": [
    {
     "data": {
      "text/plain": [
       "[<matplotlib.lines.Line2D at 0x7fcd88721550>]"
      ]
     },
     "execution_count": 171,
     "metadata": {},
     "output_type": "execute_result"
    },
    {
     "data": {
      "image/png": "[encoded data removed]",
      "text/plain": [
       "<Figure size 432x288 with 1 Axes>"
      ]
     },
     "metadata": {
      "needs_background": "light"
     },
     "output_type": "display_data"
    }
   ],
   "source": [
    "plt.plot(np.sort(pc), norm.pdf(np.sort(pc)))\n"
   ]
  },
  {
   "cell_type": "code",
   "execution_count": 210,
   "metadata": {},
   "outputs": [
    {
     "name": "stdout",
     "output_type": "stream",
     "text": [
      "Positive Profits: 0\n",
      "Negative Profits: 10\n",
      "Mean profit: -9.81597479893718\n",
      "Standard Deviatin of profits: 20.162827248710432\n",
      "Highest Profit: 0.0\n",
      "Lowest Profit: -66.6362671245077\n"
     ]
    },
    {
     "data": {
      "image/png": "[encoded data removed]",
      "text/plain": [
       "<Figure size 432x288 with 1 Axes>"
      ]
     },
     "metadata": {
      "needs_background": "light"
     },
     "output_type": "display_data"
    }
   ],
   "source": [
    "n=10\n",
    "positive_profits_count=0\n",
    "profits=np.zeros(n)\n",
    "pc_evolved=np.zeros(n)\n",
    "price_history=np.zeros(n)\n",
    "price_history=price_history.tolist()\n",
    "pc_evolved=pc_evolved.tolist()\n",
    "\n",
    "for i in range(n):\n",
    "    profits[i], pc_e, stock_price=sim(latest_stock_price,days_to_simulate,seed_pc)\n",
    "    pc_evolved[i]=pc_e\n",
    "    price_history[i]=stock_price\n",
    "    if profits[i]>0:\n",
    "        positive_profits_count+=1\n",
    "\n",
    "print(\"Positive Profits:\",positive_profits_count)\n",
    "print(\"Negative Profits:\",n-positive_profits_count)\n",
    "print(\"Mean profit:\",np.mean(profits))\n",
    "print(\"Standard Deviatin of profits:\",np.std(profits))\n",
    "print(\"Highest Profit:\",np.max(profits))\n",
    "print(\"Lowest Profit:\",np.min(profits))\n",
    "#n,bins,edges=plt.hist(profits,bins=10)\n",
    "\n",
    "\n",
    "bin=3.49*np.std(pc_evolved[-1])*(len(pc_evolved[-1])**(1/3))\n",
    "counts, bins, bars=plt.hist(pc_evolved[-1],int(bin))"
   ]
  },
  {
   "cell_type": "code",
   "execution_count": 179,
   "metadata": {},
   "outputs": [
    {
     "name": "stdout",
     "output_type": "stream",
     "text": [
      "0.0\n"
     ]
    },
    {
     "data": {
      "image/png": "[encoded data removed]",
      "text/plain": [
       "<Figure size 432x288 with 1 Axes>"
      ]
     },
     "metadata": {
      "needs_background": "light"
     },
     "output_type": "display_data"
    }
   ],
   "source": [
    "   plt.plot(np.arange(0,len(price_history[-1]),1),price_history[-1])\n",
    "   print(profits[-1])\n"
   ]
  },
  {
   "cell_type": "code",
   "execution_count": null,
   "metadata": {},
   "outputs": [],
   "source": [
    "a=[0,4,6,230]\n",
    "mn=np.mean(a)\n",
    "print(\"old mean is\",mn)\n",
    "new_data=10\n",
    "new_mn=(mn+new_data)/2\n",
    "print(\"This is calculated new mean\",new_mn)\n",
    "a.append(new_data)\n",
    "print(a)\n",
    "print(\"Ture new mean is: \",np.mean(a))\n"
   ]
  }
 ],
 "metadata": {
  "interpreter": {
   "hash": "4db4247e62966fd47bff2e1e1fec92dd62ed5848882e33f50cf37de94d0c3760"
  },
  "kernelspec": {
   "display_name": "Python 3.8.8 64-bit ('base': conda)",
   "name": "python3"
  },
  "language_info": {
   "codemirror_mode": {
    "name": "ipython",
    "version": 3
   },
   "file_extension": ".py",
   "mimetype": "text/x-python",
   "name": "python",
   "nbconvert_exporter": "python",
   "pygments_lexer": "ipython3",
   "version": "3.8.8"
  }
 },
 "nbformat": 4,
 "nbformat_minor": 4
}
